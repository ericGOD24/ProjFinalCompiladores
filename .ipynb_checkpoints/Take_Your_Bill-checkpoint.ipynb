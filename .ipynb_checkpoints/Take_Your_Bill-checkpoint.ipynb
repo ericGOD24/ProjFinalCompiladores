{
 "cells": [
  {
   "cell_type": "markdown",
   "metadata": {},
   "source": [
    "# Take your Bill"
   ]
  },
  {
   "cell_type": "markdown",
   "metadata": {},
   "source": [
    "Esta é uma linguagem de programação baseada em bares e restaurantes. A ideia da linguagem é usarmos ser uma calculadora, mas as operações na verdade são frases utilizadas em bares e restaurantes.\n",
    "\n",
    "A Linguagem se baseia num valor base que irá sendo modificado conforme o usuário constrói o código."
   ]
  },
  {
   "cell_type": "markdown",
   "metadata": {},
   "source": [
    "## Imports and  Declarations"
   ]
  },
  {
   "cell_type": "code",
   "execution_count": 1,
   "metadata": {},
   "outputs": [],
   "source": [
    "from take_your_bill.parser import parser\n",
    "from take_your_bill.runtime import eval\n",
    "\n",
    "run = lambda src, bill=0, env=None: eval(parser.parse(src), bill, env)"
   ]
  },
  {
   "cell_type": "markdown",
   "metadata": {},
   "source": [
    "## Como rodar\n",
    "\n",
    "- Para tal, é necessário o python3 e o lark-parser instalado\n",
    "- Rode o comando\n",
    "\n",
    "  `python3`\n",
    "\n",
    "- Com o python3 rodando deverá importar o parser e rodar\n",
    "\n",
    "  `from lispy.parser import parser`\n",
    "\n",
    "## Operações\n",
    "\n",
    "- Soma\n",
    "\n",
    "  `adiciona ao pedido`\n",
    "  \n",
    "\n",
    "- Subtração\n",
    "\n",
    "  `retira da conta`\n",
    "  \n",
    "- mostrar cardapio\n",
    "\n",
    "  `manda o cardapio`\n",
    "\n",
    "- pedir algo do cardapio\n",
    "\n",
    "  `eu quero um \"pastel\"`\n",
    "\n",
    "  ou\n",
    "  \n",
    "  `eu quero uma \"cerveja\"``\n",
    "\n",
    "  ou\n",
    "\n",
    "  `eu quero 3 \"parmegiana\"`\n",
    "  \n",
    "- adicionar ao cardápio\n",
    "\n",
    "   `adiciona ao cardapio \"sorvete\" por 5.50 reais`\n",
    "     \n",
    "- Multiplicação\n",
    "\n",
    "  `desejo um bacalhau de`\n",
    "\n",
    "\n",
    "- Divisão\n",
    "\n",
    "  `parcela ai em`\n",
    "\n",
    "\n",
    "- Porcentagem\n",
    "\n",
    "  `campeão, da um desconto ai de`\n",
    "\n",
    "\n",
    "- Para mostrar o valor atual\n",
    "\n",
    "  `desce a conta chefia`\n",
    "  \n",
    "\n",
    "- E para mostrar qualquer frase desejada\n",
    "\n",
    "  `\"sua frase aqui\"`  \n"
   ]
  },
  {
   "cell_type": "markdown",
   "metadata": {},
   "source": [
    "## Exemplos"
   ]
  },
  {
   "cell_type": "code",
   "execution_count": 4,
   "metadata": {},
   "outputs": [
    {
     "name": "stdout",
     "output_type": "stream",
     "text": [
      "parmegiana  =>  30  reais\n",
      "fritas  =>  10  reais\n",
      "camarão  =>  20  reais\n",
      "cerveja  =>  7  reais\n",
      "pinga  =>  20  reais\n",
      "hamburger  =>  20  reais\n",
      "picanha  =>  15  reais\n",
      "10.0\n",
      "ou cara, vou ao banheiro mano\n",
      "não temos isso no cardápio );\n"
     ]
    },
    {
     "data": {
      "text/plain": [
       "105.0"
      ]
     },
     "execution_count": 4,
     "metadata": {},
     "output_type": "execute_result"
    }
   ],
   "source": [
    "# escreva a linguagem dentro do src\n",
    "src = \"\"\"\n",
    "manda o cardapio\n",
    "\n",
    "adiciona ao pedido 15\n",
    "\n",
    "retira da conta 5\n",
    "\n",
    "desce a conta chefia\n",
    "\n",
    "da um desconto ai de 20\n",
    "\n",
    "eu quero 3 \"parmegiana\"\n",
    "\n",
    "\"ou cara, vou ao banheiro mano\"\n",
    "\n",
    "eu quero uma \"cerveja\"\n",
    "\n",
    "eu quero um \"\"\n",
    "\"\"\"\n",
    "\n",
    "run(src)"
   ]
  },
  {
   "cell_type": "code",
   "execution_count": null,
   "metadata": {},
   "outputs": [],
   "source": []
  }
 ],
 "metadata": {
  "kernelspec": {
   "display_name": "Python 3",
   "language": "python",
   "name": "python3"
  },
  "language_info": {
   "codemirror_mode": {
    "name": "ipython",
    "version": 3
   },
   "file_extension": ".py",
   "mimetype": "text/x-python",
   "name": "python",
   "nbconvert_exporter": "python",
   "pygments_lexer": "ipython3",
   "version": "3.7.3"
  }
 },
 "nbformat": 4,
 "nbformat_minor": 2
}
