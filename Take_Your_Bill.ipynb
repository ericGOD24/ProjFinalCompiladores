{
 "cells": [
  {
   "cell_type": "markdown",
   "metadata": {},
   "source": [
    "# Take your Bill"
   ]
  },
  {
   "cell_type": "markdown",
   "metadata": {},
   "source": [
    "Esta é uma linguagem de programação baseada em bares e restaurantes. A ideia da linguagem é usarmos ser uma calculadora, mas as operações na verdade são frases utilizadas em bares e restaurantes.\n",
    "\n",
    "A Linguagem se baseia num valor base que irá sendo modificado conforme o usuário constrói o código."
   ]
  },
  {
   "cell_type": "markdown",
   "metadata": {},
   "source": [
    "## Imports and  Declarations"
   ]
  },
  {
   "cell_type": "code",
   "execution_count": 1,
   "metadata": {},
   "outputs": [],
   "source": [
    "from take_your_bill.parser import parser\n",
    "from take_your_bill.runtime import eval\n",
    "\n",
    "run = lambda src, env=0: eval(parser.parse(src), env)"
   ]
  },
  {
   "cell_type": "markdown",
   "metadata": {},
   "source": [
    "## Como rodar\n",
    "\n",
    "- Para tal, é necessário o python3 e o lark-parser instalado\n",
    "- Rode o comando\n",
    "\n",
    "  `python3`\n",
    "\n",
    "- Com o python3 rodando deverá importar o parser e rodar\n",
    "\n",
    "  `from lispy.parser import parser`\n",
    "\n",
    "## Operações\n",
    "\n",
    "- Soma\n",
    "\n",
    "  `adiciona ao pedido`\n",
    "  \n",
    "\n",
    "- Subtração\n",
    "\n",
    "  `retira da conta`\n",
    "\n",
    "\n",
    "- Multiplicação\n",
    "\n",
    "  `desejo um bacalhau de`\n",
    "\n",
    "\n",
    "- Divisão\n",
    "\n",
    "  `parcela ai em`\n",
    "\n",
    "\n",
    "- potenciação\n",
    "\n",
    "  `desejo uma tilapia`\n",
    "\n",
    "\n",
    "- Raiz quadrada\n",
    "\n",
    "  `desejo uma batata frita`\n",
    "\n",
    "\n",
    "- Porcentagem\n",
    "\n",
    "  `campeão, da um desconto ai de`\n",
    "\n",
    "\n",
    "- Para mostrar o valor atual\n",
    "\n",
    "  `desce a conta chefia`\n",
    "  \n",
    "\n",
    "- E para mostrar qualquer frase desejada\n",
    "\n",
    "  `\"sua frase aqui\"`  \n"
   ]
  },
  {
   "cell_type": "markdown",
   "metadata": {},
   "source": [
    "## Exemplos"
   ]
  },
  {
   "cell_type": "code",
   "execution_count": 8,
   "metadata": {},
   "outputs": [
    {
     "name": "stdout",
     "output_type": "stream",
     "text": [
      "impossivel um bacalhau assim\n",
      "opa agora sim mermao\n"
     ]
    },
    {
     "data": {
      "text/plain": [
       "4.1132503787829275"
      ]
     },
     "execution_count": 8,
     "metadata": {},
     "output_type": "execute_result"
    }
   ],
   "source": [
    "# escreva a linguagem dentro do src\n",
    "src = \"\"\"\n",
    "\n",
    "adiciona ao pedido 2\n",
    "\n",
    "desejo uma batata frita\n",
    "\n",
    "desejo um bacalhau de -5\n",
    "\n",
    "desejo uma tilapia\n",
    "\n",
    "\"opa agora sim mermao\"\n",
    "\n",
    "\"\"\"\n",
    "\n",
    "run(src)"
   ]
  },
  {
   "cell_type": "code",
   "execution_count": null,
   "metadata": {},
   "outputs": [],
   "source": []
  }
 ],
 "metadata": {
  "kernelspec": {
   "display_name": "Python 3",
   "language": "python",
   "name": "python3"
  },
  "language_info": {
   "codemirror_mode": {
    "name": "ipython",
    "version": 3
   },
   "file_extension": ".py",
   "mimetype": "text/x-python",
   "name": "python",
   "nbconvert_exporter": "python",
   "pygments_lexer": "ipython3",
   "version": "3.7.3"
  }
 },
 "nbformat": 4,
 "nbformat_minor": 2
}
