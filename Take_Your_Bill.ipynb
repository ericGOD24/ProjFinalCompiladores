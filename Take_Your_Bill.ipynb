{
 "cells": [
  {
   "cell_type": "markdown",
   "metadata": {},
   "source": [
    "# Take your Bill"
   ]
  },
  {
   "cell_type": "markdown",
   "metadata": {},
   "source": [
    "Esta é uma linguagem de programação baseada em bares e restaurantes. A ideia da linguagem é usarmos ser uma calculadora, mas as operações na verdade são frases utilizadas em bares e restaurantes.\n",
    "\n",
    "A Linguagem se baseia num valor base que irá sendo modificado conforme o usuário constrói o código."
   ]
  },
  {
   "cell_type": "markdown",
   "metadata": {},
   "source": [
    "## Imports and  Declarations"
   ]
  },
  {
   "cell_type": "code",
   "execution_count": 1,
   "metadata": {},
   "outputs": [],
   "source": [
    "from take_your_bill.parser import parser\n",
    "from take_your_bill.runtime import eval\n",
    "\n",
    "run = lambda src, env=0: eval(parser.parse(src), env)"
   ]
  },
  {
   "cell_type": "markdown",
   "metadata": {},
   "source": [
    "## Como rodar\n",
    "\n",
    "- Para tal, é necessário o python3 e o lark-parser instalado\n",
    "- Rode o comando\n",
    "\n",
    "  `python3`\n",
    "\n",
    "- Com o python3 rodando deverá importar o parser e rodar\n",
    "\n",
    "  `from lispy.parser import parser`\n",
    "\n",
    "## Operações\n",
    "\n",
    "- Soma\n",
    "\n",
    "  `adiciona ao pedido`\n",
    "  \n",
    "\n",
    "- Subtração\n",
    "\n",
    "  `retira da conta`\n",
    "\n",
    "\n",
    "- Multiplicação\n",
    "\n",
    "  `desejo um bacalhau de`\n",
    "\n",
    "\n",
    "- Divisão\n",
    "\n",
    "  `parcela ai em`\n",
    "\n",
    "\n",
    "- potenciação\n",
    "\n",
    "  `desejo uma tilapia`\n",
    "\n",
    "\n",
    "- Raiz quadrada\n",
    "\n",
    "  `desejo uma batata frita`\n",
    "\n",
    "\n",
    "- Porcentagem\n",
    "\n",
    "  `campeão, da um desconto ai de`\n",
    "\n",
    "\n",
    "- Para mostrar o valor atual\n",
    "\n",
    "  `desce a conta chefia`\n",
    "  \n",
    "\n",
    "- E para mostrar qualquer frase desejada\n",
    "\n",
    "  `\"sua frase aqui\"`  \n"
   ]
  },
  {
   "cell_type": "markdown",
   "metadata": {},
   "source": [
    "## Exemplos"
   ]
  },
  {
   "cell_type": "code",
   "execution_count": 3,
   "metadata": {},
   "outputs": [
    {
     "name": "stdout",
     "output_type": "stream",
     "text": [
      "10.0\n",
      "quer pagar pra estar aqui é? não da pra retirar da conta não\n"
     ]
    },
    {
     "data": {
      "text/plain": [
       "8.0"
      ]
     },
     "execution_count": 3,
     "metadata": {},
     "output_type": "execute_result"
    }
   ],
   "source": [
    "# escreva a linguagem dentro do src\n",
    "src = \"\"\"\n",
    "adiciona ao pedido 10\n",
    "desce a conta chefia\n",
    "campeão, da um desconto ai de 20\n",
    "retira da conta 19 \n",
    "\"\"\"\n",
    "\n",
    "run(src)"
   ]
  },
  {
   "cell_type": "code",
   "execution_count": null,
   "metadata": {},
   "outputs": [],
   "source": []
  }
 ],
 "metadata": {
  "kernelspec": {
   "display_name": "Python 3",
   "language": "python",
   "name": "python3"
  },
  "language_info": {
   "codemirror_mode": {
    "name": "ipython",
    "version": 3
   },
   "file_extension": ".py",
   "mimetype": "text/x-python",
   "name": "python",
   "nbconvert_exporter": "python",
   "pygments_lexer": "ipython3",
   "version": "3.7.3"
  }
 },
 "nbformat": 4,
 "nbformat_minor": 2
}
